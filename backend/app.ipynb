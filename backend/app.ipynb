{
 "cells": [
  {
   "cell_type": "code",
   "execution_count": null,
   "metadata": {},
   "outputs": [
    {
     "name": "stderr",
     "output_type": "stream",
     "text": [
      "c:\\Users\\bchal\\anaconda3\\envs\\mindcare-ai\\Lib\\site-packages\\tqdm\\auto.py:21: TqdmWarning: IProgress not found. Please update jupyter and ipywidgets. See https://ipywidgets.readthedocs.io/en/stable/user_install.html\n",
      "  from .autonotebook import tqdm as notebook_tqdm\n",
      "INFO:     Started server process [5336]\n",
      "INFO:     Waiting for application startup.\n",
      "INFO:     Application startup complete.\n",
      "INFO:     Uvicorn running on http://0.0.0.0:8000 (Press CTRL+C to quit)\n"
     ]
    },
    {
     "name": "stdout",
     "output_type": "stream",
     "text": [
      "INFO:     127.0.0.1:63110 - \"GET / HTTP/1.1\" 200 OK\n",
      "INFO:     127.0.0.1:63110 - \"GET /favicon.ico HTTP/1.1\" 404 Not Found\n",
      "INFO:     127.0.0.1:63113 - \"GET /bpm HTTP/1.1\" 200 OK\n"
     ]
    }
   ],
   "source": [
    "import sys\n",
    "import os\n",
    "from fastapi import FastAPI\n",
    "import uvicorn\n",
    "import nest_asyncio\n",
    "\n",
    "# 🔹 Ensure Jupyter can find the 'backend' folder\n",
    "sys.path.append(os.path.abspath(\"../backend\"))\n",
    "\n",
    "from heart_rate import get_bpm  # ✅ Import from heart_rate.py\n",
    "\n",
    "# 🔹 Initialize FastAPI\n",
    "app = FastAPI()\n",
    "\n",
    "# 🔹 Define API routes\n",
    "@app.get(\"/\")\n",
    "def read_root():\n",
    "    return {\"message\": \"Welcome to Heart Rate API\"}\n",
    "\n",
    "@app.get(\"/bpm\")\n",
    "def bpm():\n",
    "    return get_bpm()\n",
    "\n",
    "# 🔹 Fix event loop issue for FastAPI in Jupyter Notebook\n",
    "nest_asyncio.apply()\n",
    "\n",
    "# 🔹 Run FastAPI server (only run once!)\n",
    "uvicorn.run(app, host=\"0.0.0.0\", port=8000, reload=False)\n"
   ]
  }
 ],
 "metadata": {
  "kernelspec": {
   "display_name": "mindcare-ai",
   "language": "python",
   "name": "python3"
  },
  "language_info": {
   "codemirror_mode": {
    "name": "ipython",
    "version": 3
   },
   "file_extension": ".py",
   "mimetype": "text/x-python",
   "name": "python",
   "nbconvert_exporter": "python",
   "pygments_lexer": "ipython3",
   "version": "3.12.9"
  }
 },
 "nbformat": 4,
 "nbformat_minor": 2
}
